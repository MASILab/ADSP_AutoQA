{
 "cells": [
  {
   "cell_type": "code",
   "execution_count": 1,
   "metadata": {},
   "outputs": [],
   "source": [
    "import re"
   ]
  },
  {
   "cell_type": "code",
   "execution_count": 35,
   "metadata": {},
   "outputs": [],
   "source": [
    "# Updated pattern\n",
    "#pattern = r'^(sub-\\w+)(?:_(ses-\\w+))?_([A-Za-z0-9\\.\\-]*)(?:acq-(\\w+))?(?:run-(\\d{1,2}))?\\.png$'\n",
    "#pattern = r'^(sub-\\w+)(?:_(ses-\\w+))?_([A-Za-z0-9\\.]*)(?:(?=acq-(\\w+)))?(?:(?=run-(\\d{1,2})))?\\.png$'\n",
    "pattern = r'(sub-\\w+)(?:_(ses-\\w+))?_([A-Za-z0-9\\.\\-]+?)(?=acq\\-|run\\-|\\.png)(?:(acq-\\w+))?(?:(run-\\d{1,2}))?\\.png'\n",
    "\n",
    "\n",
    "# Test strings\n",
    "strings = [\n",
    "    'sub-0002_ses-adni3screening_SLANT-TICVv1.2acq-MPRAGErun-1.png',\n",
    "    'sub-0002_ses-adni3screening_SLANT-TICVv1.2acq-MPRAGE.png',\n",
    "    'sub-0002_ses-adni3screening_SLANT-TICVv1.2run-1.png',\n",
    "    'sub-0002_ses-adni3screening_SLANT-TICVv1.2.png',\n",
    "    'sub-0002_SLANT-TICVv1.2acq-MPRAGErun-1.png',\n",
    "    'sub-0002_SLANT-TICVv1.2acq-MPRAGE.png',\n",
    "    'sub-0002_SLANT-TICVv1.2run-1.png',\n",
    "    'sub-0002_SLANT-TICVv1.2.png'\n",
    "]"
   ]
  },
  {
   "cell_type": "code",
   "execution_count": 36,
   "metadata": {},
   "outputs": [
    {
     "name": "stdout",
     "output_type": "stream",
     "text": [
      "String: sub-0002_ses-adni3screening_SLANT-TICVv1.2acq-MPRAGErun-1.png\n",
      "Group 1 (sub): sub-0002\n",
      "Group 2 (ses): ses-adni3screening\n",
      "Group 3 (descriptor): SLANT-TICVv1.2\n",
      "Group 4 (acq): acq-MPRAGE\n",
      "Group 5 (run): run-1\n",
      "----------------------------------------\n",
      "String: sub-0002_ses-adni3screening_SLANT-TICVv1.2acq-MPRAGE.png\n",
      "Group 1 (sub): sub-0002\n",
      "Group 2 (ses): ses-adni3screening\n",
      "Group 3 (descriptor): SLANT-TICVv1.2\n",
      "Group 4 (acq): acq-MPRAGE\n",
      "Group 5 (run): None\n",
      "----------------------------------------\n",
      "String: sub-0002_ses-adni3screening_SLANT-TICVv1.2run-1.png\n",
      "Group 1 (sub): sub-0002\n",
      "Group 2 (ses): ses-adni3screening\n",
      "Group 3 (descriptor): SLANT-TICVv1.2\n",
      "Group 4 (acq): None\n",
      "Group 5 (run): run-1\n",
      "----------------------------------------\n",
      "String: sub-0002_ses-adni3screening_SLANT-TICVv1.2.png\n",
      "Group 1 (sub): sub-0002\n",
      "Group 2 (ses): ses-adni3screening\n",
      "Group 3 (descriptor): SLANT-TICVv1.2\n",
      "Group 4 (acq): None\n",
      "Group 5 (run): None\n",
      "----------------------------------------\n",
      "String: sub-0002_SLANT-TICVv1.2acq-MPRAGErun-1.png\n",
      "Group 1 (sub): sub-0002\n",
      "Group 2 (ses): None\n",
      "Group 3 (descriptor): SLANT-TICVv1.2\n",
      "Group 4 (acq): acq-MPRAGE\n",
      "Group 5 (run): run-1\n",
      "----------------------------------------\n",
      "String: sub-0002_SLANT-TICVv1.2acq-MPRAGE.png\n",
      "Group 1 (sub): sub-0002\n",
      "Group 2 (ses): None\n",
      "Group 3 (descriptor): SLANT-TICVv1.2\n",
      "Group 4 (acq): acq-MPRAGE\n",
      "Group 5 (run): None\n",
      "----------------------------------------\n",
      "String: sub-0002_SLANT-TICVv1.2run-1.png\n",
      "Group 1 (sub): sub-0002\n",
      "Group 2 (ses): None\n",
      "Group 3 (descriptor): SLANT-TICVv1.2\n",
      "Group 4 (acq): None\n",
      "Group 5 (run): run-1\n",
      "----------------------------------------\n",
      "String: sub-0002_SLANT-TICVv1.2.png\n",
      "Group 1 (sub): sub-0002\n",
      "Group 2 (ses): None\n",
      "Group 3 (descriptor): SLANT-TICVv1.2\n",
      "Group 4 (acq): None\n",
      "Group 5 (run): None\n",
      "----------------------------------------\n"
     ]
    }
   ],
   "source": [
    "# Perform matches\n",
    "for string in strings:\n",
    "    match = re.match(pattern, string)\n",
    "    if match:\n",
    "        print(f\"String: {string}\")\n",
    "        print(\"Group 1 (sub):\", match.group(1))         # sub-0002\n",
    "        print(\"Group 2 (ses):\", match.group(2))         # ses-adni3screening\n",
    "        print(\"Group 3 (descriptor):\", match.group(3)) # SLANT-TICVv1.2\n",
    "        print(\"Group 4 (acq):\", match.group(4))         # acq-MPRAGE (if present)\n",
    "        print(\"Group 5 (run):\", match.group(5))         # run-1 (if present)\n",
    "        print(\"-\" * 40)\n",
    "    else:\n",
    "        print(f\"No match found for string: {string}\")"
   ]
  },
  {
   "cell_type": "code",
   "execution_count": null,
   "metadata": {},
   "outputs": [],
   "source": []
  }
 ],
 "metadata": {
  "kernelspec": {
   "display_name": "utils",
   "language": "python",
   "name": "python3"
  },
  "language_info": {
   "codemirror_mode": {
    "name": "ipython",
    "version": 3
   },
   "file_extension": ".py",
   "mimetype": "text/x-python",
   "name": "python",
   "nbconvert_exporter": "python",
   "pygments_lexer": "ipython3",
   "version": "3.8.10"
  }
 },
 "nbformat": 4,
 "nbformat_minor": 2
}
