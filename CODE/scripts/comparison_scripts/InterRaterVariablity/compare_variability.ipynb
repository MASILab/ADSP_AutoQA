{
 "cells": [
  {
   "cell_type": "code",
   "execution_count": 12,
   "metadata": {},
   "outputs": [],
   "source": [
    "import pandas as pd\n",
    "from pathlib import Path\n",
    "import numpy as np"
   ]
  },
  {
   "cell_type": "code",
   "execution_count": 55,
   "metadata": {},
   "outputs": [],
   "source": [
    "def cm_scores(df, rater1, rater2):\n",
    "    array = np.zeros((3,3))\n",
    "    for i,rating_1 in enumerate(['yes', 'maybe', 'no']):\n",
    "        for j,rating_2 in enumerate(['yes', 'maybe', 'no']):\n",
    "            value = len(df[(df[rater1] == rating_1) & (df[rater2] == rating_2)])\n",
    "            array[i,j] = value\n",
    "    #add the corresponding off diagonal values together\n",
    "    ym = array[0,1] + array[1,0]\n",
    "    yn = array[0,2] + array[2,0]\n",
    "    mn = array[1,2] + array[2,1]\n",
    "    array[0,1] = ym\n",
    "    array[1,0] = ym\n",
    "    array[0,2] = yn\n",
    "    array[2,0] = yn\n",
    "    array[1,2] = mn\n",
    "    array[2,1] = mn\n",
    "    return array\n",
    "    #         try:\n",
    "    #             value = cm.loc[rating_1, rating_2]\n",
    "    #         except:\n",
    "    #             print(cm)\n",
    "    #             value = cm.loc[rating_1, rating_2]\n",
    "    #         array[i,j] = value\n",
    "    # return array\n",
    "\n",
    "\n",
    "root = Path(\"/fs5/p_masi/kimm58/InterRaterVariability/\")\n",
    "\n",
    "pipelines = [\"SLANT-TICVv1.2\", \"PreQual\", \"T1w\", \"TractsegAFright\", \"TractsegCC4\", \"TractsegCSTleft\", \"TractsegSLFIleft\", \"TractsegTPOTCright\"]\n",
    "raters = ['rater_1', 'rater_2', 'rater_3', 'rater_4']\n",
    "all_classes = ['yes', 'maybe', 'no']\n",
    "\n",
    "for pipeline in pipelines:\n",
    "    pipeline_df = pd.DataFrame()\n",
    "    for rater in raters:\n",
    "        #grab the QA csv file\n",
    "        qa = pd.read_csv(root / rater / pipeline / \"QA.csv\")\n",
    "        #concatenate the sub,ses,acq,run columns into a single column\n",
    "        qa['scan'] = qa['sub'] + \"_\" + qa['ses'] + \"_\" + qa['acq'] + \"_\" + qa['run']\n",
    "        #grab the columns of QA status and scan only\n",
    "        qa = qa[['scan', 'QA_status']]\n",
    "        #rename the QA column to the rater name\n",
    "        qa = qa.rename(columns={'QA_status': rater})\n",
    "        #merge the QA column to the pipeline_df\n",
    "        try:\n",
    "            pipeline_df = pd.merge(pipeline_df, qa, on='scan', how='outer')\n",
    "        except:\n",
    "            pipeline_df = qa\n",
    "    #change to categorical\n",
    "    for rater in raters:\n",
    "        pipeline_df[rater] = pd.Categorical(pipeline_df[rater], categories=all_classes)\n",
    "        #pipeline_df[raters] = pd.Categorical(pipeline_df[raters], categories=all_classes)\n",
    "    #create the confusion matrix across all raters\n",
    "    confusion_dict = {}\n",
    "    confusiuon_matrix = pd.DataFrame()\n",
    "    total_cm = np.zeros((3,3))\n",
    "    for i in range(len(raters)):\n",
    "        for j in range(i+1, len(raters)):\n",
    "            cm_values = cm_scores(pipeline_df, raters[i], raters[j])\n",
    "            total_cm += cm_values\n",
    "    #make sure that the values are normalized by the total number of scans times the total number of rater comparisons (which is n*(n-1)/2)\n",
    "    num_raters = len(raters)\n",
    "    num_comparisons = num_raters*(num_raters-1)/2\n",
    "    num_scans = len(pipeline_df)\n",
    "    #total_cm = total_cm / (num_scans*num_comparisons)\n",
    "    break\n"
   ]
  },
  {
   "cell_type": "code",
   "execution_count": 59,
   "metadata": {},
   "outputs": [
    {
     "name": "stdout",
     "output_type": "stream",
     "text": [
      "Accuracy: 0.9857686579513487\n"
     ]
    },
    {
     "data": {
      "image/png": "[encoded data removed]",
      "text/plain": [
       "<Figure size 600x600 with 1 Axes>"
      ]
     },
     "metadata": {},
     "output_type": "display_data"
    }
   ],
   "source": [
    "import matplotlib.pyplot as plt\n",
    "\n",
    "def create_confusion_matrix_plot(cm, classes):\n",
    "    f,ax = plt.subplots(1,1, figsize=(6,6))\n",
    "    im = ax.imshow(cm, cmap='viridis', vmax=300)\n",
    "    ax.set_xticks(np.arange(len(classes)))\n",
    "    ax.set_yticks(np.arange(len(classes)))\n",
    "    ax.set_xticklabels(classes)\n",
    "    ax.set_yticklabels(classes)\n",
    "    #plt.setp(ax.get_xticklabels(), rotation=45, ha=\"right\", rotation_mode=\"anchor\")\n",
    "    for i in range(len(classes)):\n",
    "        for j in range(len(classes)):\n",
    "            #if cm[i,j] < .8:\n",
    "            if cm[i,j] < 300:\n",
    "                color = 'white'\n",
    "            else:\n",
    "                color = 'black'\n",
    "            if cm[i,j] < 0:\n",
    "                formatted_value = \"{:.4f}\".format(cm[i, j])\n",
    "            else:\n",
    "                formatted_value = int(cm[i, j])\n",
    "            text = ax.text(j, i, formatted_value, ha=\"center\", va=\"center\", color=color, fontsize=20)\n",
    "    ax.set_title(\"Confusion Matrix\")\n",
    "    accuarcy = np.trace(cm) / np.sum(cm)\n",
    "    #ax.set_xlabel(f\"Accuracy: {accuarcy}\")\n",
    "    print(f\"Accuracy: {accuarcy}\")\n",
    "    f.tight_layout()\n",
    "    plt.show()\n",
    "\n",
    "create_confusion_matrix_plot(total_cm, all_classes)"
   ]
  },
  {
   "cell_type": "code",
   "execution_count": null,
   "metadata": {},
   "outputs": [],
   "source": []
  }
 ],
 "metadata": {
  "kernelspec": {
   "display_name": "utils",
   "language": "python",
   "name": "python3"
  },
  "language_info": {
   "codemirror_mode": {
    "name": "ipython",
    "version": 3
   },
   "file_extension": ".py",
   "mimetype": "text/x-python",
   "name": "python",
   "nbconvert_exporter": "python",
   "pygments_lexer": "ipython3",
   "version": "3.8.10"
  }
 },
 "nbformat": 4,
 "nbformat_minor": 2
}
