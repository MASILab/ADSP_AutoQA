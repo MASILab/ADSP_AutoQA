{
 "cells": [
  {
   "cell_type": "code",
   "execution_count": 1,
   "metadata": {},
   "outputs": [],
   "source": [
    "import pandas as pd\n",
    "from pathlib import Path\n",
    "import numpy as np\n",
    "from matplotlib.colors import ListedColormap\n",
    "from tqdm import tqdm\n",
    "import matplotlib.pyplot as plt\n",
    "from sklearn.metrics import cohen_kappa_score\n",
    "from statsmodels.stats.inter_rater import fleiss_kappa as fleiss_kappa_calc"
   ]
  },
  {
   "cell_type": "code",
   "execution_count": 64,
   "metadata": {},
   "outputs": [
    {
     "name": "stderr",
     "output_type": "stream",
     "text": [
      "  0%|          | 0/9 [00:00<?, ?it/s]"
     ]
    },
    {
     "name": "stdout",
     "output_type": "stream",
     "text": [
      "Fleiss Kappa for SLANT-TICVv1.2: 0.8750507606284929\n"
     ]
    },
    {
     "name": "stderr",
     "output_type": "stream",
     "text": [
      " 11%|█         | 1/9 [00:05<00:40,  5.01s/it]"
     ]
    },
    {
     "name": "stdout",
     "output_type": "stream",
     "text": [
      "Fleiss Kappa for PreQual: 0.31258429025964574\n"
     ]
    },
    {
     "name": "stderr",
     "output_type": "stream",
     "text": [
      " 22%|██▏       | 2/9 [00:09<00:31,  4.53s/it]"
     ]
    },
    {
     "name": "stdout",
     "output_type": "stream",
     "text": [
      "Fleiss Kappa for T1w: 0.07185525436156451\n"
     ]
    },
    {
     "name": "stderr",
     "output_type": "stream",
     "text": [
      " 33%|███▎      | 3/9 [00:14<00:28,  4.76s/it]"
     ]
    },
    {
     "name": "stdout",
     "output_type": "stream",
     "text": [
      "Fleiss Kappa for TractsegAFright: 0.6783756148032175\n"
     ]
    },
    {
     "name": "stderr",
     "output_type": "stream",
     "text": [
      " 44%|████▍     | 4/9 [00:18<00:22,  4.59s/it]"
     ]
    },
    {
     "name": "stdout",
     "output_type": "stream",
     "text": [
      "Fleiss Kappa for TractsegCC4: 0.8841678097317467\n"
     ]
    },
    {
     "name": "stderr",
     "output_type": "stream",
     "text": [
      " 56%|█████▌    | 5/9 [00:23<00:18,  4.55s/it]"
     ]
    },
    {
     "name": "stdout",
     "output_type": "stream",
     "text": [
      "Fleiss Kappa for TractsegCSTleft: 0.9006071349137721\n"
     ]
    },
    {
     "name": "stderr",
     "output_type": "stream",
     "text": [
      " 67%|██████▋   | 6/9 [00:27<00:13,  4.40s/it]"
     ]
    },
    {
     "name": "stdout",
     "output_type": "stream",
     "text": [
      "Fleiss Kappa for TractsegSLFIleft: 0.7622859419038078\n"
     ]
    },
    {
     "name": "stderr",
     "output_type": "stream",
     "text": [
      " 78%|███████▊  | 7/9 [00:31<00:08,  4.27s/it]"
     ]
    },
    {
     "name": "stdout",
     "output_type": "stream",
     "text": [
      "Fleiss Kappa for TractsegTPOSTCright: 0.7280176904512606\n"
     ]
    },
    {
     "name": "stderr",
     "output_type": "stream",
     "text": [
      " 89%|████████▉ | 8/9 [00:35<00:04,  4.18s/it]"
     ]
    },
    {
     "name": "stdout",
     "output_type": "stream",
     "text": [
      "Fleiss Kappa for LungHallucination: 0.7328933725472292\n"
     ]
    },
    {
     "name": "stderr",
     "output_type": "stream",
     "text": [
      "100%|██████████| 9/9 [00:38<00:00,  4.27s/it]\n"
     ]
    }
   ],
   "source": [
    "def create_rating_plot(df, kappa, repeats=100, pipeline_name=\"\", save=False):\n",
    "    #drop the scan column\n",
    "    df = df.drop(columns='scan')\n",
    "    f,ax = plt.subplots(1,1, figsize=(25,5))\n",
    "    #get the array matrix from the dataframe\n",
    "    mat = df.values.T\n",
    "    rep_mat = np.repeat(mat, repeats=repeats, axis=0)\n",
    "    #rep_mat = np.repeat(rep_mat, repeats=4, axis=1)\n",
    "    #print(rep_mat.shape)\n",
    "    ax.imshow(rep_mat, cmap=cmap, aspect='auto', interpolation='none')\n",
    "    #show horizontal grid lines, with two lines between quarter of the plot\n",
    "    num_rows, num_cols = rep_mat.shape\n",
    "    x_ticks = [0, num_cols // 4, num_cols // 2, 3 * num_cols // 4, num_cols - 1]\n",
    "    y_ticks = [0, num_rows // 4, num_rows // 2, 3 * num_rows // 4, num_rows - 1]\n",
    "\n",
    "    ax.set_xticks(x_ticks)\n",
    "    ax.set_xticklabels([f'{tick}' for tick in x_ticks])  # Optional: label as values\n",
    "    ax.set_yticks(y_ticks)\n",
    "    ax.set_yticklabels([f'{tick}' for tick in y_ticks])  # Optional: label as values\n",
    "\n",
    "    #ax.set_yticks(np.arange(len(df.columns) + 1) - .5, minor=True)\n",
    "    ax.grid(which='minor', color='black', linestyle='-', linewidth=2)\n",
    "    for y in y_ticks:\n",
    "        ax.hlines(y, xmin=0, xmax=num_cols - 1, colors='black', linewidth=3)\n",
    "\n",
    "    #set the rater names on the plot\n",
    "    y_labels = ['rater_1', 'rater_2', 'rater_3', 'rater_4']\n",
    "    y_tick_pos = [x*repeats*len(y_labels) for x in [0.12, 0.37, 0.62, 0.87]]\n",
    "    ax.set_yticks(y_tick_pos)\n",
    "    ax.set_yticklabels(y_labels, fontsize=15)\n",
    "    #remove yticks\n",
    "    ax.yaxis.set_ticks_position('none')\n",
    "\n",
    "    #remove the xticks and labels\n",
    "    ax.set_xticks([])\n",
    "    ax.set_xticklabels([])\n",
    "\n",
    "    #set the x-axis label\n",
    "    ax.set_xlabel(r\"Quality Controlled Outputs ( $N=${} )\".format(num_cols), fontsize=14)\n",
    "\n",
    "    ax.set_title(f\"Quality Control Ratings for {pipeline_name}\\n\" + r\"Fleiss' $\\kappa$: {:.3f}\".format(kappa), fontsize=16)\n",
    "    #ax.set_title(r\"$\\text{Quality Control Ratings for {}}\\n\\text{Fleiss' }\\kappa: {:.2f}$\".format(pipeline_name, kappa))\n",
    "\n",
    "\n",
    "    if save:\n",
    "        f.savefig(f\"{pipeline_name}_quality_control.png\", dpi=600)\n",
    "    #close the plot\n",
    "    plt.close(f)\n",
    "\n",
    "def compute_fleiss_kappa(df):\n",
    "    \"\"\"\n",
    "    \n",
    "    \"\"\"\n",
    "    #get the dataframe into the form where columns are \"num_yes\", \"num_maybe\", \"num_no\" instead of the raters\n",
    "    num_raters = len(df.columns) - 1\n",
    "    #create a new dataframe with the columns \"num_yes\", \"num_maybe\", \"num_no\"\n",
    "    new_df = pd.DataFrame(columns=['scan', 'num_yes', 'num_maybe', 'num_no'])\n",
    "    #iterate through the rows of the dataframe\n",
    "    for i, row in df.iterrows():\n",
    "        #get the scan name\n",
    "        scan = row['scan']\n",
    "        #get the values of the row\n",
    "        values = row[1:]\n",
    "        #count the number of \"yes\", \"maybe\", and \"no\" ratings\n",
    "        num_yes = len(values[values == 'yes'])\n",
    "        num_maybe = len(values[values == 'maybe'])\n",
    "        num_no = len(values[values == 'no'])\n",
    "        #add the values to the new dataframe\n",
    "        new_row = {'scan': scan, 'num_yes': num_yes, 'num_maybe': num_maybe, 'num_no': num_no}\n",
    "        new_df = pd.concat([new_df, pd.Series(new_row).to_frame().T], axis=0)\n",
    "    #compute the fleiss kappa\n",
    "    f_kappa = fleiss_kappa_calc(new_df[['num_yes', 'num_maybe', 'num_no']].values, method='fleiss')\n",
    "    return f_kappa\n",
    "\n",
    "\n",
    "def cm_scores(df, rater1, rater2):\n",
    "    array = np.zeros((3,3))\n",
    "    for i,rating_1 in enumerate(['yes', 'maybe', 'no']):\n",
    "        for j,rating_2 in enumerate(['yes', 'maybe', 'no']):\n",
    "            value = len(df[(df[rater1] == rating_1) & (df[rater2] == rating_2)])\n",
    "            array[i,j] = value\n",
    "    #add the corresponding off diagonal values together\n",
    "    ym = array[0,1] + array[1,0]\n",
    "    yn = array[0,2] + array[2,0]\n",
    "    mn = array[1,2] + array[2,1]\n",
    "    array[0,1] = ym\n",
    "    array[1,0] = ym\n",
    "    array[0,2] = yn\n",
    "    array[2,0] = yn\n",
    "    array[1,2] = mn\n",
    "    array[2,1] = mn\n",
    "    return array\n",
    "    #         try:\n",
    "    #             value = cm.loc[rating_1, rating_2]\n",
    "    #         except:\n",
    "    #             print(cm)\n",
    "    #             value = cm.loc[rating_1, rating_2]\n",
    "    #         array[i,j] = value\n",
    "    # return array\n",
    "\n",
    "#create the colormap\n",
    "categories = ['no', 'maybe', 'yes']\n",
    "#use a ListedColormap with #E63946, #457B9D, and #2A9D8F\n",
    "#cmap = ListedColormap(['#D55E00', '#3178C6', '#009E73'])\n",
    "#cmap = ListedColormap(['#D55E00', '#3178C6', '#A9DDFD'])\n",
    "#cmap = ListedColormap(['#D55E00', '#FF8C00', '#A9DDFD'])\n",
    "cmap = ListedColormap(['#8B0000', '#FFDB58', '#A9DDFD'])\n",
    "\n",
    "#cmap = ListedColormap(['red', 'yellow', 'green'])\n",
    "\n",
    "\n",
    "root = Path(\"/fs5/p_masi/kimm58/InterRaterVariability/\")\n",
    "\n",
    "pipelines = [\"SLANT-TICVv1.2\", \"PreQual\", \"T1w\", \"TractsegAFright\", \"TractsegCC4\", \"TractsegCSTleft\", \"TractsegSLFIleft\", \"TractsegTPOSTCright\", \"LungHallucination\"]\n",
    "raters = ['rater_1', 'rater_2', 'rater_3', 'rater_4']\n",
    "all_classes = ['yes', 'maybe', 'no']\n",
    "\n",
    "pipeline_dfs = {}\n",
    "kappa_dict = {}\n",
    "\n",
    "for pipeline in tqdm(pipelines):\n",
    "    #pipeline_df = pd.DataFrame()\n",
    "    dfs = []\n",
    "    # if pipeline == \"SLANT-TICVv1.2\":\n",
    "    #     continue\n",
    "    for rater in raters:\n",
    "        #grab the QA csv file\n",
    "        qa_f = root / rater / pipeline / \"QA.csv\"\n",
    "        #print(qa_f)\n",
    "        qa = pd.read_csv(qa_f)\n",
    "        #concatenate the sub,ses,acq,run columns into a single column\n",
    "        qa['scan'] = qa['sub'].fillna('') + \"_\" + qa['ses'].fillna('') + \"_\" + qa['acq'].fillna('') + \"_\" + qa['run'].fillna('')\n",
    "        #grab the columns of QA status and scan only\n",
    "        qa = qa[['scan', 'QA_status']]\n",
    "        #rename the QA column to the rater name\n",
    "        qa = qa.rename(columns={'QA_status': rater})\n",
    "        dfs.append(qa)\n",
    "        continue\n",
    "        #merge the QA column to the pipeline_df\n",
    "        try:\n",
    "            print(qa.shape)\n",
    "            pipeline_df = pd.merge(pipeline_df, qa, on='scan', how='outer')\n",
    "        except:\n",
    "            pipeline_df = qa\n",
    "        print(pipeline_df.shape)\n",
    "    #merge the dataframes \n",
    "    pipeline_df = dfs[0]\n",
    "    for df in dfs[1:]:\n",
    "        pipeline_df = pd.merge(pipeline_df, df, on='scan', how='outer')\n",
    "\n",
    "    #compute the flieiss kappa\n",
    "    fleiss_kappa = compute_fleiss_kappa(pipeline_df)\n",
    "    print(f\"Fleiss Kappa for {pipeline}: {fleiss_kappa}\")\n",
    "    kappa_dict[pipeline] = fleiss_kappa\n",
    "\n",
    "    #set the values to the categories\n",
    "    category_map = {cat: i for i, cat in enumerate(categories)}\n",
    "    df_mapped = pipeline_df.replace(category_map)\n",
    "    #pipeline_dfs[pipeline] = df_mapped\n",
    "\n",
    "    #create the rating plot\n",
    "    create_rating_plot(df_mapped, fleiss_kappa, pipeline_name=pipeline, save=True)\n",
    "\n",
    "    #save the dataframe\n",
    "    pipeline_df.to_csv(f\"{pipeline}_QA.csv\", index=False)\n",
    "\n",
    "    #break\n"
   ]
  },
  {
   "cell_type": "markdown",
   "metadata": {},
   "source": [
    "## Creating the Summary Bar Plot"
   ]
  },
  {
   "cell_type": "code",
   "execution_count": 67,
   "metadata": {},
   "outputs": [
    {
     "name": "stdout",
     "output_type": "stream",
     "text": [
      "{'SLANT-TICVv1.2': 0.8750507606284929, 'PreQual': 0.31258429025964574, 'T1w': 0.07185525436156451, 'TractsegAFright': 0.6783756148032175, 'TractsegCC4': 0.8841678097317467, 'TractsegCSTleft': 0.9006071349137721, 'TractsegSLFIleft': 0.7622859419038078, 'TractsegTPOSTCright': 0.7280176904512606, 'LungHallucination': 0.7328933725472292}\n"
     ]
    },
    {
     "data": {
      "image/png": "[encoded data removed]",
      "text/plain": [
       "<Figure size 1200x300 with 1 Axes>"
      ]
     },
     "metadata": {},
     "output_type": "display_data"
    }
   ],
   "source": [
    "print(kappa_dict)\n",
    "\n",
    "def create_summary_bar_plot(kappa_dict):\n",
    "\n",
    "    kappa_dict = {k: v for k, v in kappa_dict.items() if k != \"T1w\"}\n",
    "    #change to remove the v1.2 from the pipeline names if they exist\n",
    "    kappa_dict = {k.replace(\"v1.2\", \"\"): v for k, v in kappa_dict.items()}\n",
    "    #add a \\n to the pipeline names after TractSeg\n",
    "    kappa_dict = {k.replace(\"Tractseg\", \"Tractseg\\n\"): v for k, v in kappa_dict.items()}\n",
    "    #change the name if the pipeline is LungHallucination to Lung\n",
    "    kappa_dict = {k.replace(\"LungHallucination\", \"Lung CT\\nHarmonization\"): v for k, v in kappa_dict.items()}\n",
    "\n",
    "    f, ax = plt.subplots(1,1, figsize=(12,3))\n",
    "\n",
    "    #     #add horizontal lines at 0.21, 0.41, 0.61, 0.8 \n",
    "    # # Fair (#F4A261) → Orange (indicating lower agreement but not poor)\n",
    "    # # Moderate (#E9C46A) → Yellow-Gold (indicating a middle-ground level)\n",
    "    # # Substantial (#2A9D8F) → Teal (indicating strong agreement)\n",
    "    # # Almost Perfect (#264653) → Dark Blue-Gray (indicating near perfection)\n",
    "    # ax.axhline(0.2, color='#F4A261', linestyle='--', label='Fair')\n",
    "    # ax.axhline(0.4, color='#E9C46A', linestyle='--', label='Moderate')\n",
    "    # ax.axhline(0.6, color='#2A9D8F', linestyle='--', label='Substantial')\n",
    "    # ax.axhline(0.8, color='#264653', linestyle='--', label='Almost Perfect')\n",
    "\n",
    "    color_regions = [\n",
    "        (0.8, 1.0, '#264653', 'Almost Perfect'),  # Dark Blue-Gray\n",
    "        (0.6, 0.8, '#2A9D8F', 'Substantial'),     # Teal\n",
    "        (0.4, 0.6, '#E9C46A', 'Moderate'),        # Yellow-Gold\n",
    "        (0.2, 0.4, '#F4A261', 'Fair'),            # Orange\n",
    "        (0, 0.2, '#E63946', 'Poor')               # Red\n",
    "    ]\n",
    "\n",
    "    # Fill regions with transparency (alpha)\n",
    "    for lower, upper, color, label in color_regions:\n",
    "        ax.fill_between(\n",
    "            x=[-2, len(kappa_dict)-0.5],  # Covers the entire x-axis range\n",
    "            y1=lower, y2=upper, \n",
    "            color=color, alpha=0.3, label=label\n",
    "        )\n",
    "\n",
    "    # Plot threshold lines\n",
    "    for _, upper, color, label in color_regions:\n",
    "        ax.axhline(upper, color=color, linestyle='--', alpha=0.5)\n",
    "\n",
    "    # write the labels to the right of the plot\n",
    "    ypos = (color_regions[-1][1] + color_regions[-1][0]) / 2 + 0.8\n",
    "    for i, (min, max, _, label) in enumerate(color_regions):\n",
    "        ax.text(7.6, ypos, f'{label}', fontstyle='italic', fontsize=12)\n",
    "        ypos -= 0.2\n",
    "\n",
    "    #for each entry, have a bar plot\n",
    "    ax.bar(kappa_dict.keys(), kappa_dict.values(), color='black', width=0.3, fill=False, linewidth=10)\n",
    "\n",
    "    #range from 0 to 1\n",
    "    ax.set_ylim(0,1)\n",
    "\n",
    "    #remove top and right spines\n",
    "    ax.spines['top'].set_visible(False)\n",
    "    ax.spines['right'].set_visible(False)\n",
    "    ax.spines['left'].set_visible(False)\n",
    "\n",
    "    #yaxis label\n",
    "    ax.set_ylabel(r\"Fleiss' $\\kappa$\")\n",
    "\n",
    "    #tilt the x-axis label ticks and make them larger\n",
    "    plt.xticks(rotation=45)\n",
    "    plt.tick_params(axis='x', labelsize=12)\n",
    "\n",
    "    #make the yaxis ticks larger\n",
    "    ax.tick_params(axis='y', labelsize=14)\n",
    "    #create yaxis label to be larger\n",
    "    ax.set_ylabel(r\"Fleiss' $\\kappa$\", fontsize=16)\n",
    "\n",
    "    #f.suptitle(\"Aggreement Between Raters\", fontsize=18)\n",
    "\n",
    "\n",
    "\n",
    "\n",
    "\n",
    "\n",
    "#create a bar plot\n",
    "create_summary_bar_plot(kappa_dict)"
   ]
  },
  {
   "cell_type": "code",
   "execution_count": null,
   "metadata": {},
   "outputs": [
    {
     "name": "stdout",
     "output_type": "stream",
     "text": [
      "                                           scan  rater_1  rater_2  rater_3  \\\n",
      "0  sub-0004_ses-adni3screening_acq-MPRAGE_run-2        2        2        2   \n",
      "1  sub-0010_ses-adni3screening_acq-MPRAGE_run-2        2        2        2   \n",
      "2   sub-0014_ses-adnigomonth12_acq-MPRAGE_run-1        2        2        2   \n",
      "3  sub-0020_ses-adni3screening_acq-MPRAGE_run-1        2        2        2   \n",
      "4      sub-0021_ses-adni2year1_acq-MPRAGE_run-2        2        2        2   \n",
      "\n",
      "   rater_4  \n",
      "0        2  \n",
      "1        2  \n",
      "2        2  \n",
      "3        2  \n",
      "4        2  \n"
     ]
    },
    {
     "data": {
      "image/png": "[encoded data removed]",
      "text/plain": [
       "<Figure size 2500x1000 with 1 Axes>"
      ]
     },
     "metadata": {},
     "output_type": "display_data"
    }
   ],
   "source": [
    "\n",
    "\n",
    "\n",
    "\n",
    "\n",
    "print(df_mapped.head())\n",
    "create_rating_plot(df_mapped)\n",
    "\n",
    "##############3\n",
    "\n",
    "def create_confusion_matrix_plot(cm, classes):\n",
    "    f,ax = plt.subplots(1,1, figsize=(6,6))\n",
    "    im = ax.imshow(cm, cmap='viridis', vmax=300)\n",
    "    ax.set_xticks(np.arange(len(classes)))\n",
    "    ax.set_yticks(np.arange(len(classes)))\n",
    "    ax.set_xticklabels(classes)\n",
    "    ax.set_yticklabels(classes)\n",
    "    #plt.setp(ax.get_xticklabels(), rotation=45, ha=\"right\", rotation_mode=\"anchor\")\n",
    "    for i in range(len(classes)):\n",
    "        for j in range(len(classes)):\n",
    "            #if cm[i,j] < .8:\n",
    "            if cm[i,j] < 300:\n",
    "                color = 'white'\n",
    "            else:\n",
    "                color = 'black'\n",
    "            if cm[i,j] < 0:\n",
    "                formatted_value = \"{:.4f}\".format(cm[i, j])\n",
    "            else:\n",
    "                formatted_value = int(cm[i, j])\n",
    "            text = ax.text(j, i, formatted_value, ha=\"center\", va=\"center\", color=color, fontsize=20)\n",
    "    ax.set_title(\"Confusion Matrix\")\n",
    "    accuarcy = np.trace(cm) / np.sum(cm)\n",
    "    #ax.set_xlabel(f\"Accuracy: {accuarcy}\")\n",
    "    print(f\"Accuracy: {accuarcy}\")\n",
    "    f.tight_layout()\n",
    "    plt.show()\n",
    "\n",
    "#create_confusion_matrix_plot(total_cm, all_classes)"
   ]
  },
  {
   "cell_type": "code",
   "execution_count": null,
   "metadata": {},
   "outputs": [],
   "source": []
  }
 ],
 "metadata": {
  "kernelspec": {
   "display_name": "utils",
   "language": "python",
   "name": "python3"
  },
  "language_info": {
   "codemirror_mode": {
    "name": "ipython",
    "version": 3
   },
   "file_extension": ".py",
   "mimetype": "text/x-python",
   "name": "python",
   "nbconvert_exporter": "python",
   "pygments_lexer": "ipython3",
   "version": "3.8.10"
  }
 },
 "nbformat": 4,
 "nbformat_minor": 2
}
