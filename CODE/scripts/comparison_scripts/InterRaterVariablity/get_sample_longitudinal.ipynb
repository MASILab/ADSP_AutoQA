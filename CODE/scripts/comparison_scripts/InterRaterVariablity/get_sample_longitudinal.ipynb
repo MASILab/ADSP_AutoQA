{
 "cells": [
  {
   "cell_type": "code",
   "execution_count": 1,
   "metadata": {},
   "outputs": [],
   "source": [
    "import pandas as pd"
   ]
  },
  {
   "cell_type": "code",
   "execution_count": 4,
   "metadata": {},
   "outputs": [
    {
     "name": "stdout",
     "output_type": "stream",
     "text": [
      "271    114.232643\n",
      "272           NaN\n",
      "Name: CST_left-avg_length, dtype: float64\n"
     ]
    }
   ],
   "source": [
    "df = pd.read_csv('/home-local/kimm58/WMLifespan/data/CSVs/COMBINED/initial/WRAP_combined.csv')\n",
    "\n",
    "#get the rows where the subject is sub-wrap0731\n",
    "sub_wrap0731 = df.loc[df['subject'] == 'sub-wrap0731']\n",
    "\n",
    "print(sub_wrap0731['CST_left-avg_length'])"
   ]
  },
  {
   "cell_type": "code",
   "execution_count": 9,
   "metadata": {},
   "outputs": [
    {
     "name": "stdout",
     "output_type": "stream",
     "text": [
      "ATR_left-avg_length\n",
      "UF_right-avg_length\n",
      "CG_right-avg_length\n",
      "CC_2-avg_length\n",
      "ST_OCC_right-avg_length\n",
      "AF_left-avg_length\n",
      "ICP_left-avg_length\n",
      "CG_left-avg_length\n",
      "ST_PREM_left-avg_length\n",
      "OR_left-avg_length\n",
      "FX_left-avg_length\n",
      "ST_OCC_left-avg_length\n",
      "IFO_left-avg_length\n",
      "MLF_right-avg_length\n",
      "T_PREM_right-avg_length\n",
      "IFO_right-avg_length\n",
      "ATR_right-avg_length\n",
      "SLF_II_right-avg_length\n",
      "T_OCC_right-avg_length\n",
      "SCP_left-avg_length\n",
      "SLF_III_right-avg_length\n",
      "ILF_left-avg_length\n",
      "CC_7-avg_length\n",
      "T_PREM_left-avg_length\n",
      "ST_FO_right-avg_length\n",
      "T_OCC_left-avg_length\n",
      "AF_right-avg_length\n",
      "SLF_II_left-avg_length\n",
      "ST_FO_left-avg_length\n",
      "ICP_right-avg_length\n",
      "CC_1-avg_length\n",
      "ILF_right-avg_length\n",
      "UF_left-avg_length\n",
      "MLF_left-avg_length\n",
      "ST_PREM_right-avg_length\n",
      "SLF_III_left-avg_length\n",
      "CA-avg_length\n",
      "FPT_left-avg_length\n",
      "SCP_right-avg_length\n",
      "CC_3-avg_length\n",
      "FX_right-avg_length\n",
      "T_PREF_left-avg_length\n",
      "MCP-avg_length\n",
      "OR_right-avg_length\n"
     ]
    }
   ],
   "source": [
    "#print the columns where \"*-avg_length\" is not nan for all rows\n",
    "for column in df.columns:\n",
    "    if '-avg_length' in column:\n",
    "        if sub_wrap0731[column].isnull().sum() == 0:\n",
    "            print(column)\n"
   ]
  },
  {
   "cell_type": "code",
   "execution_count": null,
   "metadata": {},
   "outputs": [],
   "source": []
  }
 ],
 "metadata": {
  "kernelspec": {
   "display_name": "utils",
   "language": "python",
   "name": "python3"
  },
  "language_info": {
   "codemirror_mode": {
    "name": "ipython",
    "version": 3
   },
   "file_extension": ".py",
   "mimetype": "text/x-python",
   "name": "python",
   "nbconvert_exporter": "python",
   "pygments_lexer": "ipython3",
   "version": "3.8.10"
  }
 },
 "nbformat": 4,
 "nbformat_minor": 2
}
