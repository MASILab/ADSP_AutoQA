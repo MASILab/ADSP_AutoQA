{
 "cells": [
  {
   "cell_type": "code",
   "execution_count": 1,
   "metadata": {},
   "outputs": [],
   "source": [
    "import pandas as pd\n",
    "import numpy as np\n",
    "import matplotlib.pyplot as plt"
   ]
  },
  {
   "cell_type": "code",
   "execution_count": 2,
   "metadata": {},
   "outputs": [],
   "source": [
    "df = pd.read_csv('/fs5/p_masi/kimm58/MRIQC_experiments/WRAP_anat/derivatives/group_T1w.tsv', sep='\\t')"
   ]
  },
  {
   "cell_type": "code",
   "execution_count": 3,
   "metadata": {},
   "outputs": [],
   "source": [
    "#for each of the 64 metrics, get the rows that fall outside of the Q1−1.5×IQR to Q3+1.5×IQR range\n",
    "#store the results in a duplicate dataframe, where the only values are 0 or 1 (0 if the value is not an outlier, 1 if it is for that metric)\n",
    "outlier_df = df.copy()\n",
    "for metric in df.columns[1:]:\n",
    "    Q1 = df[metric].quantile(0.25)\n",
    "    Q3 = df[metric].quantile(0.75)\n",
    "    IQR = Q3 - Q1\n",
    "    lower_bound = Q1 - 1.5 * IQR\n",
    "    upper_bound = Q3 + 1.5 * IQR\n",
    "    outlier_df[metric] = ((df[metric] < lower_bound) | (df[metric] > upper_bound)).astype(int)\n",
    "    #print(f'{metric}: {len(outliers)} outliers')\n"
   ]
  },
  {
   "cell_type": "code",
   "execution_count": 4,
   "metadata": {},
   "outputs": [],
   "source": [
    "#see the scans (top 10) with the most outliers\n",
    "outlier_df['num_outliers'] = outlier_df.iloc[:,1:].sum(axis=1)\n",
    "outlier_df = outlier_df.sort_values(by='num_outliers', ascending=False)"
   ]
  },
  {
   "cell_type": "code",
   "execution_count": 28,
   "metadata": {},
   "outputs": [
    {
     "name": "stdout",
     "output_type": "stream",
     "text": [
      "Number of scans with at least 5 outliers: 234\n",
      "Number of scans with at least 10 outliers: 38\n",
      "Number of scans with at least 15 outliers: 5\n",
      "Number of scans with at least 20 outliers: 2\n"
     ]
    }
   ],
   "source": [
    "#see how many rows have at least 2 outliers, at least 5, at least 10\n",
    "#print(f'Number of scans with at least 2 outliers: {len(outlier_df[outlier_df[\"num_outliers\"] >= 2])}')\n",
    "print(f'Number of scans with at least 5 outliers: {len(outlier_df[outlier_df[\"num_outliers\"] >= 5])}')\n",
    "print(f'Number of scans with at least 10 outliers: {len(outlier_df[outlier_df[\"num_outliers\"] >= 10])}')\n",
    "print(f'Number of scans with at least 15 outliers: {len(outlier_df[outlier_df[\"num_outliers\"] >= 15])}')\n",
    "print(f'Number of scans with at least 20 outliers: {len(outlier_df[outlier_df[\"num_outliers\"] >= 20])}')"
   ]
  },
  {
   "cell_type": "code",
   "execution_count": 34,
   "metadata": {},
   "outputs": [],
   "source": [
    "#read in the QA.csv file for the T1w comparison to get the files that were flagged as something\n",
    "qa_df = pd.read_csv('/fs5/p_masi/kimm58/MRIQC_experiments/QA_root/WRAP/T1w/QA.csv')\n",
    "#flagged_maybe = qa_df[(qa_df['QA_status'] == 'maybe') | (qa_df['QA_status'] == 'no')]\n",
    "\n",
    "#get the list of files that were flagged as something\n",
    "qa_dict = {}\n",
    "for status in ['maybe', 'no']:\n",
    "    qa_dict[status] = [] \n",
    "    qa_status_df = qa_df[qa_df['QA_status'] == status]\n",
    "    for i, row in qa_status_df.iterrows():\n",
    "        #print(row)\n",
    "        sub, ses, acq, run = row['sub'], row['ses'], row['acq'], row['run']\n",
    "        acqx = '_'+acq if not pd.isna(acq) else ''\n",
    "        runx = '_'+run if not pd.isna(run) else ''\n",
    "        file = f\"{sub}_{ses}{acqx}{runx}_T1w\"\n",
    "        qa_dict[status].append(file)\n",
    "\n",
    "#get the list from the outlier_df at each threshold number\n",
    "outlier_dict = {}\n",
    "for num_outliers in [5,10,15,20]:\n",
    "    outlier_dict[num_outliers] = outlier_df[outlier_df['num_outliers'] >= num_outliers]['bids_name'].tolist()\n"
   ]
  },
  {
   "cell_type": "code",
   "execution_count": 36,
   "metadata": {},
   "outputs": [
    {
     "name": "stdout",
     "output_type": "stream",
     "text": [
      "Number of maybe files: 39\n",
      "Number of maybe files in the 5 outliers list: 8\n",
      "Number of maybe files in the 10 outliers list: 2\n",
      "Number of maybe files in the 15 outliers list: 0\n",
      "Number of maybe files in the 20 outliers list: 0\n",
      "Number of no files: 2\n",
      "Number of no files in the 5 outliers list: 2\n",
      "Number of no files in the 10 outliers list: 2\n",
      "Number of no files in the 15 outliers list: 1\n",
      "Number of no files in the 20 outliers list: 1\n"
     ]
    }
   ],
   "source": [
    "#for the files with a no status, see if they are in the outlier lists\n",
    "for status in ['maybe', 'no']:\n",
    "    print(f'Number of {status} files: {len(qa_dict[status])}')\n",
    "    for num_outliers in [5,10,15,20]:\n",
    "        outlier_list = outlier_dict[num_outliers]\n",
    "        count = 0\n",
    "        for file in qa_dict[status]:\n",
    "            if file in outlier_list:\n",
    "                count += 1\n",
    "        print(f'Number of {status} files in the {num_outliers} outliers list: {count}')"
   ]
  },
  {
   "cell_type": "code",
   "execution_count": null,
   "metadata": {},
   "outputs": [],
   "source": []
  }
 ],
 "metadata": {
  "kernelspec": {
   "display_name": "utils",
   "language": "python",
   "name": "python3"
  },
  "language_info": {
   "codemirror_mode": {
    "name": "ipython",
    "version": 3
   },
   "file_extension": ".py",
   "mimetype": "text/x-python",
   "name": "python",
   "nbconvert_exporter": "python",
   "pygments_lexer": "ipython3",
   "version": "3.8.10"
  }
 },
 "nbformat": 4,
 "nbformat_minor": 2
}
